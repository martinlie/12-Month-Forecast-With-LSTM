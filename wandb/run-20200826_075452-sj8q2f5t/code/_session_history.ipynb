{
 "cells": [
  {
   "cell_type": "code",
   "execution_count": 1,
   "metadata": {},
   "outputs": [
    {
     "name": "stdout",
     "output_type": "stream",
     "text": [
      "(6, 0, 3)"
     ]
    }
   ],
   "source": [
    "import numpy as np\n",
    "import pandas as pd\n",
    "import matplotlib.pyplot as plt\n",
    "from statsmodels.tools.eval_measures import rmse\n",
    "from sklearn.preprocessing import MinMaxScaler\n",
    "from keras.preprocessing.sequence import TimeseriesGenerator\n",
    "from keras.models import *\n",
    "from keras.layers import Dense, LSTM, Dropout, Conv1D, MaxPooling1D, Flatten\n",
    "import warnings\n",
    "import wandb\n",
    "from wandb.keras import WandbCallback\n",
    "wandb.init(project=\"forecast-with-cnn\")\n",
    "\n",
    "warnings.filterwarnings(\"ignore\")\n",
    "\n",
    "wandb.config.dropout = 0.2\n",
    "wandb.config.batch_size = 6\n",
    "wandb.config.epochs = 90\n",
    "\n",
    "df = pd.read_csv('AirPassengers.csv')"
   ]
  },
  {
   "cell_type": "code",
   "execution_count": 2,
   "metadata": {},
   "outputs": [],
   "source": [
    "df.Month = pd.to_datetime(df.Month)\n",
    "df = df.set_index(\"Month\")"
   ]
  },
  {
   "cell_type": "code",
   "execution_count": 3,
   "metadata": {},
   "outputs": [],
   "source": [
    "train, test = df[:-12], df[-12:]"
   ]
  },
  {
   "cell_type": "code",
   "execution_count": 4,
   "metadata": {},
   "outputs": [],
   "source": [
    "scaler = MinMaxScaler()\n",
    "scaler.fit(train)\n",
    "train = scaler.transform(train)\n",
    "test = scaler.transform(test)"
   ]
  },
  {
   "cell_type": "code",
   "execution_count": 5,
   "metadata": {},
   "outputs": [],
   "source": [
    "n_input = 12\n",
    "n_features = 1\n",
    "generator = TimeseriesGenerator(train, train, length=n_input, batch_size=wandb.config.batch_size)"
   ]
  },
  {
   "cell_type": "code",
   "execution_count": 6,
   "metadata": {},
   "outputs": [],
   "source": [
    "# 1-d conv\n",
    "\n",
    "model = Sequential()\n",
    "model.add(Conv1D(filters=64, kernel_size=4, activation='relu', input_shape=(n_input, n_features)))\n",
    "model.add(MaxPooling1D(pool_size=2))\n",
    "model.add(Dropout(wandb.config.dropout))\n",
    "model.add(Flatten())\n",
    "model.add(Dense(1))\n",
    "model.compile(optimizer='adam', loss='mse') \n",
    "# validation_split=0.33\n",
    "# #metrics=['accuracy', 'loss', 'val_accuracy', 'val_loss'],)"
   ]
  },
  {
   "cell_type": "code",
   "execution_count": 7,
   "metadata": {},
   "outputs": [],
   "source": [
    "model.fit(generator,epochs=wandb.config.epochs,callbacks=[WandbCallback()])\n",
    "model.save(os.path.join(wandb.run.dir, \"cnn-model.h5\"))"
   ]
  },
  {
   "cell_type": "code",
   "execution_count": 8,
   "metadata": {},
   "outputs": [],
   "source": [
    "pred_list = []\n",
    "\n",
    "batch = train[-n_input:].reshape((1, n_input, n_features))\n",
    "\n",
    "for i in range(n_input):   \n",
    "    pred_list.append(model.predict(batch)[0]) \n",
    "    batch = np.append(batch[:,1:,:],[[pred_list[i]]],axis=1)"
   ]
  },
  {
   "cell_type": "code",
   "execution_count": 9,
   "metadata": {},
   "outputs": [],
   "source": [
    "df_predict = pd.DataFrame(scaler.inverse_transform(pred_list),\n",
    "                          index=df[-n_input:].index, columns=['Prediction'])\n",
    "\n",
    "df_test = pd.concat([df,df_predict], axis=1)"
   ]
  },
  {
   "cell_type": "code",
   "execution_count": 10,
   "metadata": {},
   "outputs": [],
   "source": [
    "#for (line_number, (index, row)) in enumerate(df_test.iterrows()):\n",
    "    #wandb.log({'epoch': epoch, 'loss': loss})\n",
    "    #experiment.log_metric('test', row['AirPassengers'], row['Prediction'], x=line_number)\n",
    "\n",
    "#experiment.add_output_content('df_test.csv', df_test.to_csv())\n",
    "df_test.to_csv(os.path.join(wandb.run.dir, \"df_test.csv\"))\n",
    "#wandb.save('df_test.csv')\n",
    "#experiment.log_insight(df_test.to_numpy(), name='results/test', meta='Test data', image_convertion=False)\n",
    "\n",
    "#plt.figure(figsize=(20, 5))\n",
    "#plt.plot(df_test.index, df_test['AirPassengers'])\n",
    "#plt.plot(df_test.index, df_test['Prediction'], color='r')\n",
    "#plt.legend(loc='best', fontsize='xx-large')\n",
    "#plt.xticks(fontsize=18)\n",
    "#plt.yticks(fontsize=16)\n",
    "#plt.show()"
   ]
  },
  {
   "cell_type": "code",
   "execution_count": 11,
   "metadata": {},
   "outputs": [],
   "source": [
    "pred_actual_rmse = rmse(df_test.iloc[-n_input:, [0]], df_test.iloc[-n_input:, [1]])\n",
    "print(\"rmse: \", pred_actual_rmse)\n",
    "wandb.log({'rmse': pred_actual_rmse})\n",
    "#experiment.log_metric('rmse', pred_actual_rmse)\n",
    "\n",
    "exit()"
   ]
  }
 ],
 "metadata": {
  "kernelspec": {
   "display_name": "Python 3",
   "language": "python",
   "name": "python3"
  },
  "language_info": {
   "codemirror_mode": {
    "name": "ipython",
    "version": 3
   },
   "file_extension": ".py",
   "mimetype": "text/x-python",
   "name": "python",
   "nbconvert_exporter": "python",
   "pygments_lexer": "ipython3",
   "version": "3.7.7"
  }
 },
 "nbformat": 4,
 "nbformat_minor": 4
}
